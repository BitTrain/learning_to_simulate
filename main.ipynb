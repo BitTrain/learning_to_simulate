{
 "cells": [
  {
   "cell_type": "markdown",
   "id": "0365d8a7",
   "metadata": {
    "id": "0365d8a7"
   },
   "source": [
    "# Learning to Simulate Complex Physics with Graph Neural Networks\n",
    "\n",
    "### [Sanchez-Gonzalez et al.](https://github.com/google-deepmind/deepmind-research/tree/master/learning_to_simulate) (2020)\n",
    "\n",
    "### Ported from TensorFlow/Sonnet + Graph Nets to TensorFlow/Keras + TensorFlow GNN."
   ]
  },
  {
   "cell_type": "code",
   "execution_count": null,
   "id": "_D66zx-QlXvu",
   "metadata": {
    "id": "_D66zx-QlXvu"
   },
   "outputs": [],
   "source": [
    "from google.colab import drive\n",
    "drive.mount(\"/content/drive\")\n",
    "\n",
    "# Move into cloud storage, e.g. My Drive\n",
    "%cd /content/drive/MyDrive\n",
    "\n",
    "import os\n",
    "if os.path.exists(\"learning_to_simulate\"):\n",
    "    %cd learning_to_simulate\n",
    "    !git pull\n",
    "else:\n",
    "    !git clone https://github.com/BitTrain/learning_to_simulate.git\n",
    "    %cd learning_to_simulate"
   ]
  },
  {
   "cell_type": "markdown",
   "id": "23df59a3",
   "metadata": {
    "id": "23df59a3"
   },
   "source": [
    "## Install dependencies"
   ]
  },
  {
   "cell_type": "code",
   "execution_count": null,
   "id": "4d5f2ca7",
   "metadata": {
    "id": "4d5f2ca7"
   },
   "outputs": [],
   "source": [
    "%pip install -r requirements.txt"
   ]
  },
  {
   "cell_type": "markdown",
   "id": "2f634e76",
   "metadata": {
    "id": "2f634e76"
   },
   "source": [
    "## Environment"
   ]
  },
  {
   "cell_type": "code",
   "execution_count": null,
   "id": "05e0508c",
   "metadata": {
    "id": "05e0508c"
   },
   "outputs": [],
   "source": [
    "import datetime, logging, os, pickle, sys\n",
    "\n",
    "BASE_DIR = os.getcwd()\n",
    "PARENT_DIR = os.path.dirname(BASE_DIR)\n",
    "if PARENT_DIR not in sys.path:\n",
    "    sys.path.append(PARENT_DIR)\n",
    "\n",
    "os.environ[\"TF_USE_LEGACY_KERAS\"] = '1'  # tensorflow_gnn requires Keras v2\n",
    "\n",
    "import tensorflow as tf\n",
    "import tensorflow_gnn as tfgnn\n",
    "from learning_to_simulate import utils, settings\n",
    "from learning_to_simulate.models.learned_simulator import LearnedSimulator\n",
    "settings.TF_DEBUG_MODE = False  # Eager data, input checks\n",
    "\n",
    "print(\"TensorFlow\", tf.__version__)\n",
    "print(\"TensorFlow GNN\", tfgnn.__version__)"
   ]
  },
  {
   "cell_type": "markdown",
   "id": "250fc729",
   "metadata": {
    "id": "250fc729"
   },
   "source": [
    "## Parameters"
   ]
  },
  {
   "cell_type": "code",
   "execution_count": null,
   "id": "df2ea74b",
   "metadata": {
    "id": "df2ea74b"
   },
   "outputs": [],
   "source": [
    "#  Available datasets from Google DeepMind\n",
    "\"\"\"\n",
    "    \"WaterDrop\"\n",
    "    \"Water\"\n",
    "    \"Sand\"\n",
    "    \"Goop\"\n",
    "    \"MultiMaterial\"\n",
    "    \"RandomFloor\"\n",
    "    \"WaterRamps\"\n",
    "    \"SandRamps\"\n",
    "    \"FluidShake\"\n",
    "    \"FluidShakeBox\"\n",
    "    \"Continuous\"\n",
    "    \"WaterDrop-XL\"\n",
    "    \"Water-3D\"\n",
    "    \"Sand-3D\"\n",
    "    \"Goop-3D\"\n",
    "\"\"\"\n",
    "\n",
    "DATASET = \"WaterDrop\"\n",
    "\n",
    "params = {\n",
    "    \"DATASET\": DATASET,\n",
    "    \"DATA_PATH\": os.path.join(BASE_DIR, \"datasets\", \"deepmind\", DATASET),\n",
    "    \"MODEL_PATH\": os.path.join(BASE_DIR, \"datasets\", \"local\", DATASET, \"weights\"),\n",
    "    \"OUTPUT_PATH\": os.path.join(BASE_DIR, \"datasets\", \"local\", DATASET, \"rollouts\"),\n",
    "    \"MODE\": \"train\",\n",
    "    \"BATCH_SIZE\": None,  # unsupported in this version\n",
    "    \"EVAL_SPLIT\": \"test\",\n",
    "    \"NUM_STEPS\": 20_000_000,  # tunable\n",
    "    \"NOISE_STD\": 3e-4,  # @S-G, p. 6\n",
    "    \"VELOCITY_CONTEXT_SIZE\": 5,  # @S-G, p. 4\n",
    "    \"NUM_PARTICLE_TYPES\": 9,  # hardcoded\n",
    "    \"STATIC_PARTICLE_ID\": 3,  # hardcoded\n",
    "}\n",
    "\n",
    "if not os.path.exists(params[\"DATA_PATH\"]):\n",
    "    print(f\"Dataset '{DATASET}' not found at {params['DATA_PATH']}. Downloading...\")\n",
    "    path_to_script = os.path.join(BASE_DIR, \"download_dataset.sh\")\n",
    "    os.system(f\"bash {path_to_script} {DATASET} {os.path.dirname(params['DATA_PATH'])}\")\n",
    "\n",
    "if not os.path.exists(params[\"MODEL_PATH\"]):\n",
    "    os.makedirs(params[\"MODEL_PATH\"], exist_ok=True)\n",
    "    print(f\"Created model weights path {params['MODEL_PATH']}\")\n",
    "\n",
    "if not os.path.exists(params[\"OUTPUT_PATH\"]):\n",
    "    os.makedirs(params[\"OUTPUT_PATH\"], exist_ok=True)\n",
    "    print(f\"Created rollouts output path {params['OUTPUT_PATH']}\")"
   ]
  },
  {
   "cell_type": "markdown",
   "id": "187368c6",
   "metadata": {
    "id": "187368c6"
   },
   "source": [
    "## Modes"
   ]
  },
  {
   "cell_type": "code",
   "execution_count": null,
   "id": "ed20cedd",
   "metadata": {
    "id": "ed20cedd"
   },
   "outputs": [],
   "source": [
    "def run_train(model, metadata, timestamp, params):\n",
    "    os.makedirs(params[\"MODEL_PATH\"], exist_ok=True)\n",
    "    window_length = params[\"VELOCITY_CONTEXT_SIZE\"] + 2\n",
    "    train_ds, train_size = utils.io.load_dataset(\n",
    "        params[\"DATA_PATH\"],\n",
    "        split=\"train\",\n",
    "        mode=\"one_step_train\",\n",
    "        window_length=window_length,\n",
    "        materialize_cache=True  # Caches all pre-processed examples in memory\n",
    "    )\n",
    "    valid_ds, valid_size = utils.io.load_dataset(\n",
    "        params[\"DATA_PATH\"],\n",
    "        split=\"valid\",\n",
    "        mode=\"one_step_train\",\n",
    "        window_length=window_length,\n",
    "        materialize_cache=True\n",
    "    )\n",
    "    test_ds, test_size = utils.io.load_dataset(\n",
    "        params[\"DATA_PATH\"],\n",
    "        split=\"test\",\n",
    "        mode=\"one_step\",\n",
    "        window_length=window_length,\n",
    "        materialize_cache=True\n",
    "    )\n",
    "    if all((train_size, valid_size, test_size)):\n",
    "        total_size = train_size + valid_size + test_size\n",
    "        print(f\"\\nDataset summary:\")\n",
    "        print(f\"{'Split':<12} {'Examples':>10} {'Percent':>10}\")\n",
    "        print(\"-\" * 34)\n",
    "        print(f\"{'Train':<12} {train_size:>10,} {train_size / total_size:>9.1%}\")\n",
    "        print(f\"{'Valid':<12} {valid_size:>10,} {valid_size / total_size:>9.1%}\")\n",
    "        print(f\"{'Test':<12} {test_size:>10,} {test_size / total_size:>9.1%}\")\n",
    "        print(\"-\" * 34)\n",
    "        print(f\"{'Total':<12} {total_size:>10,} {100:>9.1f}%\\n\")\n",
    "    try:\n",
    "        for dummy in train_ds.take(1):\n",
    "            model(dummy)  # Build\n",
    "        checkpoint = utils.io.get_latest_checkpoint(params[\"MODEL_PATH\"])\n",
    "        model.load_weights(checkpoint)\n",
    "    except FileNotFoundError:\n",
    "        print(\"No saved model weights. Training from scratch.\")\n",
    "    try:\n",
    "        steps_per_epoch = 100  # tunable\n",
    "        model.fit(\n",
    "            train_ds,\n",
    "            epochs=params[\"NUM_STEPS\"] // steps_per_epoch,\n",
    "            steps_per_epoch=steps_per_epoch,\n",
    "            validation_data=valid_ds,\n",
    "            validation_steps=steps_per_epoch,\n",
    "            validation_freq=10,  # tuned to training : validation ratio\n",
    "            callbacks=[\n",
    "                tf.keras.callbacks.ModelCheckpoint(\n",
    "                    filepath=os.path.join(params[\"MODEL_PATH\"], f\"{timestamp}.weights.h5\"),\n",
    "                    save_weights_only=True,\n",
    "                    save_best_only=True,\n",
    "                    save_freq=\"epoch\"\n",
    "                ),\n",
    "                tf.keras.callbacks.EarlyStopping(\n",
    "                    monitor=\"val_loss\",\n",
    "                    patience=10,  # tunable\n",
    "                    restore_best_weights=True,\n",
    "                    verbose=1\n",
    "                ),\n",
    "                tf.keras.callbacks.LambdaCallback(\n",
    "                    on_epoch_end=lambda epoch, logs: logs.update(\n",
    "                        { \"learning_rate\": tf.keras.backend.get_value(model.optimizer.learning_rate) }\n",
    "                    )\n",
    "                ),\n",
    "                tf.keras.callbacks.TensorBoard(\n",
    "                    log_dir=os.path.join(params[\"LOG_PATH\"], timestamp),\n",
    "                    write_graph=False,\n",
    "                    update_freq=\"epoch\"\n",
    "                )\n",
    "            ]\n",
    "        )\n",
    "        metrics = model.evaluate(test_ds, return_dict=True, verbose=1)\n",
    "        logging.info(\"Evaluation metrics:\")\n",
    "        for k, v in metrics.items():\n",
    "            logging.info(f\"{k}: {v:.6f}\")\n",
    "\n",
    "\n",
    "    except Exception as e:\n",
    "        print(f\"Exception occurred: {e}\")\n",
    "        model.save_weights(os.path.join(params[\"MODEL_PATH\"], f\"{timestamp}.crash.weights.h5\"))\n",
    "        print(f\"Weights saved to {params['MODEL_PATH']}.\")\n",
    "        return\n",
    "\n",
    "def run_eval(model, metadata, timestamp, params):\n",
    "    eval_ds, eval_size = utils.io.load_dataset(\n",
    "        params[\"DATA_PATH\"],\n",
    "        params[\"BATCH_SIZE\"],\n",
    "        split=params[\"EVAL_SPLIT\"],\n",
    "        mode=\"one_step\",\n",
    "        window_length=params[\"VELOCITY_CONTEXT_SIZE\"] + 2\n",
    "    )\n",
    "    for dummy in eval_ds.take(1):\n",
    "        model(dummy)  # Build\n",
    "    checkpoint = utils.io.get_latest_checkpoint(params[\"MODEL_PATH\"])\n",
    "    model.load_weights(checkpoint)\n",
    "    metrics = model.evaluate(eval_ds, steps=1, return_dict=True)\n",
    "    logging.info(\"Evaluation metrics:\")\n",
    "    for k, v in metrics.items():\n",
    "        logging.info(f\"{k}: {v:.6f}\")\n",
    "\n",
    "def run_rollout(model, metadata, timestamp, params):\n",
    "    os.makedirs(params[\"OUTPUT_PATH\"], exist_ok=True)\n",
    "    rollout_ds, rollout_size = utils.io.load_dataset(\n",
    "        params[\"DATA_PATH\"],\n",
    "        split=params[\"EVAL_SPLIT\"],\n",
    "        mode=\"rollout\"\n",
    "    )\n",
    "    for dummy in rollout_ds.take(1):\n",
    "        model(dummy)  # Build\n",
    "    checkpoint = utils.io.get_latest_checkpoint(params[\"MODEL_PATH\"])\n",
    "    model.load_weights(checkpoint)\n",
    "    num_steps =  metadata[\"sequence_length\"] - params[\"VELOCITY_CONTEXT_SIZE\"]\n",
    "    for i, example in enumerate(rollout_ds.take(1), start=1):\n",
    "        result = model.rollout(example, num_steps=num_steps)\n",
    "        result[\"metadata\"] = metadata\n",
    "        filename = os.path.join(params[\"OUTPUT_PATH\"], f\"rollout_{params['EVAL_SPLIT']}_{i}.pkl\")\n",
    "        logging.info(f\"Rollout {i} computed for {num_steps} steps. Saving to {filename}\")\n",
    "        with open(filename, \"wb\") as f:\n",
    "            pickle.dump(result, f)"
   ]
  },
  {
   "cell_type": "markdown",
   "id": "fabaf767",
   "metadata": {
    "id": "fabaf767"
   },
   "source": [
    "## Run simulation"
   ]
  },
  {
   "cell_type": "code",
   "execution_count": null,
   "id": "9c141e45",
   "metadata": {
    "id": "9c141e45"
   },
   "outputs": [],
   "source": [
    "def main(argv):\n",
    "    metadata = utils.io.load_metadata(argv[\"DATA_PATH\"])\n",
    "\n",
    "    model = LearnedSimulator(\n",
    "        dim=metadata[\"dim\"],\n",
    "        cutoff_radius=metadata[\"default_connectivity_radius\"],\n",
    "        boundaries=metadata[\"bounds\"],\n",
    "        noise_std=argv[\"NOISE_STD\"],\n",
    "        normalization_stats=utils.io.get_normalization_stats(metadata, argv[\"NOISE_STD\"], argv[\"NOISE_STD\"]),\n",
    "        num_particle_types=argv[\"NUM_PARTICLE_TYPES\"],\n",
    "        static_particle_type_id=argv[\"STATIC_PARTICLE_ID\"],\n",
    "        velocity_context_size=argv[\"VELOCITY_CONTEXT_SIZE\"]\n",
    "    )\n",
    "    model.compile(\n",
    "        optimizer=tf.keras.optimizers.Adam(\n",
    "            learning_rate=tf.keras.optimizers.schedules.ExponentialDecay(  # S-G, p. 12\n",
    "                initial_learning_rate=1e-4,\n",
    "                decay_steps=argv[\"NUM_STEPS\"],\n",
    "                decay_rate=1e-2\n",
    "            )  # 1e4 -> 1e6 exponentially over all training steps, can be more aggressive\n",
    "        )\n",
    "    )\n",
    "\n",
    "    timestamp = datetime.datetime.now().strftime(\"%Y-%m-%d_%H-%M-%S\")\n",
    "\n",
    "    if argv[\"MODE\"] == \"train\":\n",
    "        run_train(model, metadata, timestamp, argv)\n",
    "    elif argv[\"MODE\"] == \"eval\":\n",
    "        run_eval(model, metadata, timestamp, argv)\n",
    "    elif argv[\"MODE\"] == \"rollout\":\n",
    "        run_rollout(model, metadata, timestamp, argv)"
   ]
  },
  {
   "cell_type": "code",
   "execution_count": null,
   "id": "cf44848d",
   "metadata": {
    "id": "cf44848d"
   },
   "outputs": [],
   "source": [
    "if __name__ == \"__main__\":\n",
    "    # tf.get_logger().setLevel(logging.ERROR)  # Suppress TF warnings\n",
    "    tf.config.run_functions_eagerly(True)\n",
    "    if settings.TF_DEBUG_MODE:\n",
    "        tf.data.experimental.enable_debug_mode()\n",
    "\n",
    "    main(params)"
   ]
  }
 ],
 "metadata": {
  "colab": {
   "provenance": []
  },
  "kernelspec": {
   "display_name": "base",
   "language": "python",
   "name": "python3"
  },
  "language_info": {
   "codemirror_mode": {
    "name": "ipython",
    "version": 3
   },
   "file_extension": ".py",
   "mimetype": "text/x-python",
   "name": "python",
   "nbconvert_exporter": "python",
   "pygments_lexer": "ipython3",
   "version": "3.12.7"
  }
 },
 "nbformat": 4,
 "nbformat_minor": 5
}
